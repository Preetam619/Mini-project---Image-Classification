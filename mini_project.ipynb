{
  "nbformat": 4,
  "nbformat_minor": 0,
  "metadata": {
    "colab": {
      "name": "mini project.ipynb",
      "provenance": [],
      "collapsed_sections": [
        "HuWpkoJJkbYu",
        "TfJohSeXkm5d"
      ],
      "toc_visible": true,
      "mount_file_id": "1Qrtz8J4Xwm02KELFWQN1dihObyRVgQb6",
      "authorship_tag": "ABX9TyOx8EVWHNOZAERDNb3hilhE",
      "include_colab_link": true
    },
    "kernelspec": {
      "name": "python3",
      "display_name": "Python 3"
    }
  },
  "cells": [
    {
      "cell_type": "markdown",
      "metadata": {
        "id": "view-in-github",
        "colab_type": "text"
      },
      "source": [
        "<a href=\"https://colab.research.google.com/github/Preetam619/Mini-project---Image-Classification/blob/master/mini_project.ipynb\" target=\"_parent\"><img src=\"https://colab.research.google.com/assets/colab-badge.svg\" alt=\"Open In Colab\"/></a>"
      ]
    },
    {
      "cell_type": "code",
      "metadata": {
        "id": "6euJ3ALXXTa1",
        "colab_type": "code",
        "colab": {
          "base_uri": "https://localhost:8080/",
          "height": 34
        },
        "outputId": "96057b84-a751-420d-ef25-04cdcf676c33"
      },
      "source": [
        "!pip install bing-image-downloader"
      ],
      "execution_count": null,
      "outputs": [
        {
          "output_type": "stream",
          "text": [
            "Requirement already satisfied: bing-image-downloader in /usr/local/lib/python3.6/dist-packages (1.0.4)\n"
          ],
          "name": "stdout"
        }
      ]
    },
    {
      "cell_type": "code",
      "metadata": {
        "id": "lXcQ3hRuYO8X",
        "colab_type": "code",
        "colab": {}
      },
      "source": [
        "!ls"
      ],
      "execution_count": null,
      "outputs": []
    },
    {
      "cell_type": "code",
      "metadata": {
        "id": "MNIICyb0YmGJ",
        "colab_type": "code",
        "colab": {
          "base_uri": "https://localhost:8080/",
          "height": 34
        },
        "outputId": "0ef886b2-8016-4509-c6a2-bbbd0a37178d"
      },
      "source": [
        "cd /content/drive/My Drive/Colab Notebooks/machine learning (actual)"
      ],
      "execution_count": null,
      "outputs": [
        {
          "output_type": "stream",
          "text": [
            "/content/drive/My Drive/Colab Notebooks/machine learning (actual)\n"
          ],
          "name": "stdout"
        }
      ]
    },
    {
      "cell_type": "code",
      "metadata": {
        "id": "-yyiZ84JYqjm",
        "colab_type": "code",
        "colab": {
          "base_uri": "https://localhost:8080/",
          "height": 121
        },
        "outputId": "fcd3f68a-ca48-42fa-93b3-aa7ae7f7d0b3"
      },
      "source": [
        "!ls"
      ],
      "execution_count": null,
      "outputs": [
        {
          "output_type": "stream",
          "text": [
            "'Copy of ML - Intro_Linear.pptx'  'LINEAR REGRESS.ipynb'\n",
            " FRUIT.ipynb\t\t\t  'mini project.ipynb'\n",
            " HOMEWORK-images.ipynb\t\t  'preprocessing of image.ipynb'\n",
            " images\t\t\t\t   Underweight-knn.csv\n",
            "'INTRO TO IMAGE data.ipynb'\t   Underweight-knn.gsheet\n",
            " K-NEIGHNOURS.ipynb\t\t  'using logistic ,tree for the images .ipynb'\n"
          ],
          "name": "stdout"
        }
      ]
    },
    {
      "cell_type": "code",
      "metadata": {
        "id": "rXhWTRrYYvSM",
        "colab_type": "code",
        "colab": {
          "base_uri": "https://localhost:8080/",
          "height": 34
        },
        "outputId": "26b859a0-3c4b-4534-c2b4-4e482dfc3df5"
      },
      "source": [
        "!mkdir images"
      ],
      "execution_count": null,
      "outputs": [
        {
          "output_type": "stream",
          "text": [
            "mkdir: cannot create directory ‘images’: File exists\n"
          ],
          "name": "stdout"
        }
      ]
    },
    {
      "cell_type": "code",
      "metadata": {
        "id": "6OkAGOKBaTIC",
        "colab_type": "code",
        "colab": {
          "base_uri": "https://localhost:8080/",
          "height": 34
        },
        "outputId": "1a78f97a-df78-4f0f-8987-898191750499"
      },
      "source": [
        "cd images"
      ],
      "execution_count": null,
      "outputs": [
        {
          "output_type": "stream",
          "text": [
            "/content/drive/My Drive/Colab Notebooks/machine learning (actual)/images\n"
          ],
          "name": "stdout"
        }
      ]
    },
    {
      "cell_type": "code",
      "metadata": {
        "id": "ELrs2TusaVZD",
        "colab_type": "code",
        "colab": {
          "base_uri": "https://localhost:8080/",
          "height": 1000
        },
        "outputId": "7193911a-95f4-42d8-b977-1e5a479403a6"
      },
      "source": [
        "from bing_image_downloader import downloader\n",
        "downloader.download(\"dog\",limit=20,output_dir=\"images\")"
      ],
      "execution_count": null,
      "outputs": [
        {
          "output_type": "stream",
          "text": [
            "\n",
            "\n",
            "[!!]Indexing page: 1\n",
            "\n",
            "[%] Indexed 20 Images on Page 1.\n",
            "\n",
            "===============================================\n",
            "\n",
            "[%] Downloading Image #1 from https://upload.wikimedia.org/wikipedia/commons/thumb/f/ff/Pastor_vasco_m_14months_loby_3018.jpg/1200px-Pastor_vasco_m_14months_loby_3018.jpg\n",
            "[%] File Downloaded !\n",
            "\n",
            "[%] Downloading Image #2 from https://i.ytimg.com/vi/vlfiKbrZgvg/hqdefault.jpg\n",
            "[%] File Downloaded !\n",
            "\n",
            "[%] Downloading Image #3 from https://upload.wikimedia.org/wikipedia/en/thumb/9/97/Chaser_the_BC%2C_snow_full_body.jpg/1200px-Chaser_the_BC%2C_snow_full_body.jpg\n",
            "[Error]Invalid image, not saving https://upload.wikimedia.org/wikipedia/en/thumb/9/97/Chaser_the_BC%2C_snow_full_body.jpg/1200px-Chaser_the_BC%2C_snow_full_body.jpg\n",
            "\n",
            "[!] Issue getting: https://upload.wikimedia.org/wikipedia/en/thumb/9/97/Chaser_the_BC%2C_snow_full_body.jpg/1200px-Chaser_the_BC%2C_snow_full_body.jpg\n",
            "[!] Error:: No active exception to reraise\n",
            "[%] Downloading Image #3 from https://i.ytimg.com/vi/KOI4JJFZlu0/hqdefault.jpg\n",
            "[%] File Downloaded !\n",
            "\n",
            "[%] Downloading Image #4 from https://i.ytimg.com/vi/h5TpJb_jE-M/maxresdefault.jpg\n",
            "[%] File Downloaded !\n",
            "\n",
            "[%] Downloading Image #5 from https://i.ytimg.com/vi/eU6JoK0FHAA/hqdefault.jpg\n",
            "[%] File Downloaded !\n",
            "\n",
            "[%] Downloading Image #6 from http://i1.ytimg.com/vi/rYb0F3p0rj0/maxresdefault.jpg\n",
            "[%] File Downloaded !\n",
            "\n",
            "[%] Downloading Image #7 from https://upload.wikimedia.org/wikipedia/commons/thumb/b/b8/Australian_Catle_Dog_Silverbarn%27s_Paavo.jpg/1200px-Australian_Catle_Dog_Silverbarn%27s_Paavo.jpg\n",
            "[%] File Downloaded !\n",
            "\n",
            "[%] Downloading Image #8 from https://i.ytimg.com/vi/kZw-jgCRPeE/maxresdefault.jpg\n",
            "[%] File Downloaded !\n",
            "\n",
            "[%] Downloading Image #9 from https://i.ytimg.com/vi/ymD9tB5xmmQ/hqdefault.jpg\n",
            "[%] File Downloaded !\n",
            "\n",
            "[%] Downloading Image #10 from https://4.bp.blogspot.com/-R1E2iNWpcpE/Vy-H-f1-waI/AAAAAAABm6A/Kj1D2EcaZlc1iIu6IE9OadGNIBnilccXgCLcB/s1600/cute-dogs-124-07.jpg\n",
            "[%] File Downloaded !\n",
            "\n",
            "[%] Downloading Image #11 from https://i.ytimg.com/vi/pLuhgam349s/hqdefault.jpg\n",
            "[%] File Downloaded !\n",
            "\n",
            "[%] Downloading Image #12 from https://i.ytimg.com/vi/yQaWpFcFijQ/hqdefault.jpg\n",
            "[%] File Downloaded !\n",
            "\n",
            "[%] Downloading Image #13 from https://i.ytimg.com/vi/TJq-3J_gdug/hqdefault.jpg\n",
            "[%] File Downloaded !\n",
            "\n",
            "[%] Downloading Image #14 from https://i.ytimg.com/vi/juBJcL5yVhQ/maxresdefault.jpg\n",
            "[%] File Downloaded !\n",
            "\n",
            "[%] Downloading Image #15 from https://upload.wikimedia.org/wikipedia/commons/thumb/5/53/Old_Puggle.jpg/1200px-Old_Puggle.jpg\n",
            "[Error]Invalid image, not saving https://upload.wikimedia.org/wikipedia/commons/thumb/5/53/Old_Puggle.jpg/1200px-Old_Puggle.jpg\n",
            "\n",
            "[!] Issue getting: https://upload.wikimedia.org/wikipedia/commons/thumb/5/53/Old_Puggle.jpg/1200px-Old_Puggle.jpg\n",
            "[!] Error:: No active exception to reraise\n",
            "[%] Downloading Image #15 from https://i.ytimg.com/vi/CNCK-bj4dQI/hqdefault.jpg\n",
            "[%] File Downloaded !\n",
            "\n",
            "[%] Downloading Image #16 from https://i.ytimg.com/vi/MLEUJrHRw3o/maxresdefault.jpg\n",
            "[%] File Downloaded !\n",
            "\n",
            "[%] Downloading Image #17 from https://upload.wikimedia.org/wikipedia/commons/thumb/7/7a/Supermillion_Visuals_-_Aston_Fresh_Park_1-02601.jpg/1200px-Supermillion_Visuals_-_Aston_Fresh_Park_1-02601.jpg\n",
            "[Error]Invalid image, not saving https://upload.wikimedia.org/wikipedia/commons/thumb/7/7a/Supermillion_Visuals_-_Aston_Fresh_Park_1-02601.jpg/1200px-Supermillion_Visuals_-_Aston_Fresh_Park_1-02601.jpg\n",
            "\n",
            "[!] Issue getting: https://upload.wikimedia.org/wikipedia/commons/thumb/7/7a/Supermillion_Visuals_-_Aston_Fresh_Park_1-02601.jpg/1200px-Supermillion_Visuals_-_Aston_Fresh_Park_1-02601.jpg\n",
            "[!] Error:: No active exception to reraise\n",
            "[%] Downloading Image #17 from https://i.ytimg.com/vi/yJiVZUKAS84/maxresdefault.jpg\n",
            "[%] File Downloaded !\n",
            "\n",
            "\n",
            "\n",
            "[!!]Indexing page: 2\n",
            "\n",
            "[%] Indexed 35 Images on Page 2.\n",
            "\n",
            "===============================================\n",
            "\n",
            "[%] Downloading Image #18 from https://upload.wikimedia.org/wikipedia/commons/thumb/f/ff/Pastor_vasco_m_14months_loby_3018.jpg/1200px-Pastor_vasco_m_14months_loby_3018.jpg\n",
            "[%] File Downloaded !\n",
            "\n",
            "[%] Downloading Image #19 from https://i.ytimg.com/vi/vlfiKbrZgvg/hqdefault.jpg\n",
            "[%] File Downloaded !\n",
            "\n",
            "[%] Downloading Image #20 from https://upload.wikimedia.org/wikipedia/en/thumb/9/97/Chaser_the_BC%2C_snow_full_body.jpg/1200px-Chaser_the_BC%2C_snow_full_body.jpg\n",
            "[Error]Invalid image, not saving https://upload.wikimedia.org/wikipedia/en/thumb/9/97/Chaser_the_BC%2C_snow_full_body.jpg/1200px-Chaser_the_BC%2C_snow_full_body.jpg\n",
            "\n",
            "[!] Issue getting: https://upload.wikimedia.org/wikipedia/en/thumb/9/97/Chaser_the_BC%2C_snow_full_body.jpg/1200px-Chaser_the_BC%2C_snow_full_body.jpg\n",
            "[!] Error:: No active exception to reraise\n",
            "[%] Downloading Image #20 from https://i.ytimg.com/vi/KOI4JJFZlu0/hqdefault.jpg\n",
            "[%] File Downloaded !\n",
            "\n",
            "\n",
            "\n",
            "[%] Done. Downloaded 20 images.\n",
            "\n",
            "===============================================\n",
            "\n"
          ],
          "name": "stdout"
        }
      ]
    },
    {
      "cell_type": "code",
      "metadata": {
        "id": "aYI6KBqKapGM",
        "colab_type": "code",
        "colab": {
          "base_uri": "https://localhost:8080/",
          "height": 1000
        },
        "outputId": "a77ca702-bf9f-46c5-d6d8-3d5a7ff79b22"
      },
      "source": [
        "from bing_image_downloader import downloader\n",
        "downloader.download(\"cat\",limit=20,output_dir=\"images\")"
      ],
      "execution_count": null,
      "outputs": [
        {
          "output_type": "stream",
          "text": [
            "\n",
            "\n",
            "[!!]Indexing page: 1\n",
            "\n",
            "[%] Indexed 20 Images on Page 1.\n",
            "\n",
            "===============================================\n",
            "\n",
            "[%] Downloading Image #1 from https://i.ytimg.com/vi/UwtTSqTbWzg/maxresdefault.jpg\n",
            "[%] File Downloaded !\n",
            "\n",
            "[%] Downloading Image #2 from https://i.ytimg.com/vi/ZakV2xtqqMM/maxresdefault.jpg\n",
            "[%] File Downloaded !\n",
            "\n",
            "[%] Downloading Image #3 from https://upload.wikimedia.org/wikipedia/commons/d/dc/Grumpy_Cat_%2814556024763%29_%28cropped%29.jpg\n",
            "[%] File Downloaded !\n",
            "\n",
            "[%] Downloading Image #4 from https://upload.wikimedia.org/wikipedia/commons/4/4d/Cat_November_2010-1a.jpg\n",
            "[%] File Downloaded !\n",
            "\n",
            "[%] Downloading Image #5 from https://i.ytimg.com/vi/XLFqNc0_Dp8/maxresdefault.jpg\n",
            "[%] File Downloaded !\n",
            "\n",
            "[%] Downloading Image #6 from https://i.ytimg.com/vi/zPCZWn_iWb0/maxresdefault.jpg\n",
            "[%] File Downloaded !\n",
            "\n",
            "[%] Downloading Image #7 from http://2.bp.blogspot.com/-wNG9jajTdTk/T9d7gtvm4mI/AAAAAAAANOY/X5eZH3wqkNs/s1600/funny-cat-pictures-part-2-06-13-2012-016.jpg\n",
            "[%] File Downloaded !\n",
            "\n",
            "[%] Downloading Image #8 from https://i.ytimg.com/vi/4YMwNqaqufc/maxresdefault.jpg\n",
            "[%] File Downloaded !\n",
            "\n",
            "[%] Downloading Image #9 from https://i.ytimg.com/vi/Q5AncCWcnnA/maxresdefault.jpg\n",
            "[%] File Downloaded !\n",
            "\n",
            "[%] Downloading Image #10 from https://i.ytimg.com/vi/H5t0orjZSFg/maxresdefault.jpg\n",
            "[%] File Downloaded !\n",
            "\n",
            "[%] Downloading Image #11 from https://i.ytimg.com/vi/et4xUWhz0X0/maxresdefault.jpg\n",
            "[%] File Downloaded !\n",
            "\n",
            "[%] Downloading Image #12 from https://i.ytimg.com/vi/Bg52ViwTYVE/hqdefault.jpg\n",
            "[%] File Downloaded !\n",
            "\n",
            "[%] Downloading Image #13 from http://i.huffpost.com/gen/1025042/thumbs/o-GRUMPY-CAT-SXSW-facebook.jpg\n",
            "[%] File Downloaded !\n",
            "\n",
            "[%] Downloading Image #14 from https://i.ytimg.com/vi/SBjCQX7Lh2Q/maxresdefault.jpg\n",
            "[%] File Downloaded !\n",
            "\n",
            "[%] Downloading Image #15 from https://i.ytimg.com/vi/JxS5E-kZc2s/maxresdefault.jpg\n",
            "[%] File Downloaded !\n",
            "\n",
            "[%] Downloading Image #16 from https://i.ytimg.com/vi/TMy4eaVaxyw/maxresdefault.jpg\n",
            "[%] File Downloaded !\n",
            "\n",
            "[%] Downloading Image #17 from https://upload.wikimedia.org/wikipedia/commons/thumb/1/18/Rostkatze.JPG/1200px-Rostkatze.JPG\n",
            "[%] File Downloaded !\n",
            "\n",
            "[%] Downloading Image #18 from https://i.ytimg.com/vi/DXUAyRRkI6k/maxresdefault.jpg\n",
            "[%] File Downloaded !\n",
            "\n",
            "[%] Downloading Image #19 from https://i.pinimg.com/736x/f5/ba/60/f5ba60f438041c0f609cd7c118bd7e77--baby-kittens-adorable-kittens.jpg\n",
            "[%] File Downloaded !\n",
            "\n",
            "[%] Downloading Image #20 from https://i.ytimg.com/vi/9akSG3RnA1s/maxresdefault.jpg\n",
            "[%] File Downloaded !\n",
            "\n"
          ],
          "name": "stdout"
        }
      ]
    },
    {
      "cell_type": "code",
      "metadata": {
        "id": "rh07z3yLbE1B",
        "colab_type": "code",
        "colab": {
          "base_uri": "https://localhost:8080/",
          "height": 363
        },
        "outputId": "9b80520a-72f1-4347-cd8e-0a9549cb20dc"
      },
      "source": [
        "import numpy as np\n",
        "import matplotlib.pyplot as plt\n",
        "import pandas as pd\n",
        "import glob\n",
        "from PIL import Image\n",
        "import cv2\n",
        "import os\n",
        "\n",
        "\n",
        "for i in glob.glob(\"/content/drive/My Drive/Colab Notebooks/machine learning (actual)/images/images/dog/*.jpg\"):\n",
        "  b=cv2.imread(i)\n",
        "  print(b.shape)"
      ],
      "execution_count": 33,
      "outputs": [
        {
          "output_type": "stream",
          "text": [
            "(1800, 1200, 3)\n",
            "(360, 480, 3)\n",
            "(360, 480, 3)\n",
            "(720, 1280, 3)\n",
            "(360, 480, 3)\n",
            "(720, 1280, 3)\n",
            "(1286, 1200, 3)\n",
            "(720, 1280, 3)\n",
            "(360, 480, 3)\n",
            "(960, 720, 3)\n",
            "(360, 480, 3)\n",
            "(360, 480, 3)\n",
            "(360, 480, 3)\n",
            "(720, 1280, 3)\n",
            "(360, 480, 3)\n",
            "(720, 1280, 3)\n",
            "(720, 1280, 3)\n",
            "(1800, 1200, 3)\n",
            "(360, 480, 3)\n",
            "(360, 480, 3)\n"
          ],
          "name": "stdout"
        }
      ]
    },
    {
      "cell_type": "code",
      "metadata": {
        "id": "sdTQ7E-_bPmT",
        "colab_type": "code",
        "colab": {
          "base_uri": "https://localhost:8080/",
          "height": 69
        },
        "outputId": "1d95a655-0136-4dbc-b112-33bc5a457bc3"
      },
      "source": [
        "from skimage.io import imread\n",
        "from skimage.transform import resize\n",
        "import numpy as np\n",
        "\n",
        "\n",
        "target = []   # This is the list of Target Output\n",
        "flat_data = []   # Image pixel in flatten style\n",
        "images= []\n",
        "\n",
        "path='/content/drive/My Drive/Colab Notebooks/machine learning (actual)/images/images/'\n",
        "for dirpath, dirnames, filenames in os.walk(path):\n",
        "  for filename in filenames:\n",
        "    category = dirpath.split('/')[-1]\n",
        "    target.append(category)\n",
        "    img = imread(f'{path}{category}/{filename}')\n",
        "    img_resized = resize(img,(50,50,3))  # Scaling down   this is alredy resized and normalixed\n",
        "    flat_data.append(img_resized.flatten())\n",
        "    images.append(img_resized)\n",
        "\n",
        "#PUTTING INTO THE NUMPY ARRAY\n",
        "flat_data = np.array(flat_data)\n",
        "target = np.array(target)\n",
        "images = np.array(images)\n",
        "\n",
        "print(flat_data.shape)\n",
        "print(target.shape)\n",
        "print(images.shape)\n"
      ],
      "execution_count": 2,
      "outputs": [
        {
          "output_type": "stream",
          "text": [
            "(40, 7500)\n",
            "(40,)\n",
            "(40, 50, 50, 3)\n"
          ],
          "name": "stdout"
        }
      ]
    },
    {
      "cell_type": "code",
      "metadata": {
        "id": "D7XYrn-EcZI9",
        "colab_type": "code",
        "colab": {
          "base_uri": "https://localhost:8080/",
          "height": 104
        },
        "outputId": "a1f29103-36de-4c2f-dc5b-71fed9019119"
      },
      "source": [
        "target"
      ],
      "execution_count": 3,
      "outputs": [
        {
          "output_type": "execute_result",
          "data": {
            "text/plain": [
              "array(['dog', 'dog', 'dog', 'dog', 'dog', 'dog', 'dog', 'dog', 'dog',\n",
              "       'dog', 'dog', 'dog', 'dog', 'dog', 'dog', 'dog', 'dog', 'dog',\n",
              "       'dog', 'dog', 'cat', 'cat', 'cat', 'cat', 'cat', 'cat', 'cat',\n",
              "       'cat', 'cat', 'cat', 'cat', 'cat', 'cat', 'cat', 'cat', 'cat',\n",
              "       'cat', 'cat', 'cat', 'cat'], dtype='<U3')"
            ]
          },
          "metadata": {
            "tags": []
          },
          "execution_count": 3
        }
      ]
    },
    {
      "cell_type": "code",
      "metadata": {
        "id": "dZrZiyghcl7J",
        "colab_type": "code",
        "colab": {
          "base_uri": "https://localhost:8080/",
          "height": 247
        },
        "outputId": "56a69e9b-51f8-4e78-914c-4ab3a141db92"
      },
      "source": [
        "import pandas as pd\n",
        "df=pd.DataFrame(flat_data)\n",
        "df.head()"
      ],
      "execution_count": 65,
      "outputs": [
        {
          "output_type": "execute_result",
          "data": {
            "text/html": [
              "<div>\n",
              "<style scoped>\n",
              "    .dataframe tbody tr th:only-of-type {\n",
              "        vertical-align: middle;\n",
              "    }\n",
              "\n",
              "    .dataframe tbody tr th {\n",
              "        vertical-align: top;\n",
              "    }\n",
              "\n",
              "    .dataframe thead th {\n",
              "        text-align: right;\n",
              "    }\n",
              "</style>\n",
              "<table border=\"1\" class=\"dataframe\">\n",
              "  <thead>\n",
              "    <tr style=\"text-align: right;\">\n",
              "      <th></th>\n",
              "      <th>0</th>\n",
              "      <th>1</th>\n",
              "      <th>2</th>\n",
              "      <th>3</th>\n",
              "      <th>4</th>\n",
              "      <th>5</th>\n",
              "      <th>6</th>\n",
              "      <th>7</th>\n",
              "      <th>8</th>\n",
              "      <th>9</th>\n",
              "      <th>10</th>\n",
              "      <th>11</th>\n",
              "      <th>12</th>\n",
              "      <th>13</th>\n",
              "      <th>14</th>\n",
              "      <th>15</th>\n",
              "      <th>16</th>\n",
              "      <th>17</th>\n",
              "      <th>18</th>\n",
              "      <th>19</th>\n",
              "      <th>20</th>\n",
              "      <th>21</th>\n",
              "      <th>22</th>\n",
              "      <th>23</th>\n",
              "      <th>24</th>\n",
              "      <th>25</th>\n",
              "      <th>26</th>\n",
              "      <th>27</th>\n",
              "      <th>28</th>\n",
              "      <th>29</th>\n",
              "      <th>30</th>\n",
              "      <th>31</th>\n",
              "      <th>32</th>\n",
              "      <th>33</th>\n",
              "      <th>34</th>\n",
              "      <th>35</th>\n",
              "      <th>36</th>\n",
              "      <th>37</th>\n",
              "      <th>38</th>\n",
              "      <th>39</th>\n",
              "      <th>...</th>\n",
              "      <th>7460</th>\n",
              "      <th>7461</th>\n",
              "      <th>7462</th>\n",
              "      <th>7463</th>\n",
              "      <th>7464</th>\n",
              "      <th>7465</th>\n",
              "      <th>7466</th>\n",
              "      <th>7467</th>\n",
              "      <th>7468</th>\n",
              "      <th>7469</th>\n",
              "      <th>7470</th>\n",
              "      <th>7471</th>\n",
              "      <th>7472</th>\n",
              "      <th>7473</th>\n",
              "      <th>7474</th>\n",
              "      <th>7475</th>\n",
              "      <th>7476</th>\n",
              "      <th>7477</th>\n",
              "      <th>7478</th>\n",
              "      <th>7479</th>\n",
              "      <th>7480</th>\n",
              "      <th>7481</th>\n",
              "      <th>7482</th>\n",
              "      <th>7483</th>\n",
              "      <th>7484</th>\n",
              "      <th>7485</th>\n",
              "      <th>7486</th>\n",
              "      <th>7487</th>\n",
              "      <th>7488</th>\n",
              "      <th>7489</th>\n",
              "      <th>7490</th>\n",
              "      <th>7491</th>\n",
              "      <th>7492</th>\n",
              "      <th>7493</th>\n",
              "      <th>7494</th>\n",
              "      <th>7495</th>\n",
              "      <th>7496</th>\n",
              "      <th>7497</th>\n",
              "      <th>7498</th>\n",
              "      <th>7499</th>\n",
              "    </tr>\n",
              "  </thead>\n",
              "  <tbody>\n",
              "    <tr>\n",
              "      <th>0</th>\n",
              "      <td>0.169608</td>\n",
              "      <td>0.249020</td>\n",
              "      <td>0.219608</td>\n",
              "      <td>0.156863</td>\n",
              "      <td>0.220588</td>\n",
              "      <td>0.192157</td>\n",
              "      <td>0.145098</td>\n",
              "      <td>0.219608</td>\n",
              "      <td>0.188235</td>\n",
              "      <td>0.150000</td>\n",
              "      <td>0.240196</td>\n",
              "      <td>0.207843</td>\n",
              "      <td>0.164706</td>\n",
              "      <td>0.258824</td>\n",
              "      <td>0.221569</td>\n",
              "      <td>0.164706</td>\n",
              "      <td>0.271569</td>\n",
              "      <td>0.219608</td>\n",
              "      <td>0.160784</td>\n",
              "      <td>0.264706</td>\n",
              "      <td>0.211765</td>\n",
              "      <td>0.160784</td>\n",
              "      <td>0.274510</td>\n",
              "      <td>0.215686</td>\n",
              "      <td>0.172549</td>\n",
              "      <td>0.298039</td>\n",
              "      <td>0.228431</td>\n",
              "      <td>0.187255</td>\n",
              "      <td>0.301961</td>\n",
              "      <td>0.250980</td>\n",
              "      <td>0.185294</td>\n",
              "      <td>0.286275</td>\n",
              "      <td>0.258824</td>\n",
              "      <td>0.189216</td>\n",
              "      <td>0.278431</td>\n",
              "      <td>0.266667</td>\n",
              "      <td>0.192157</td>\n",
              "      <td>0.270588</td>\n",
              "      <td>0.262745</td>\n",
              "      <td>0.176471</td>\n",
              "      <td>...</td>\n",
              "      <td>0.343137</td>\n",
              "      <td>0.643137</td>\n",
              "      <td>0.686275</td>\n",
              "      <td>0.342157</td>\n",
              "      <td>0.627451</td>\n",
              "      <td>0.668627</td>\n",
              "      <td>0.256863</td>\n",
              "      <td>0.545098</td>\n",
              "      <td>0.549020</td>\n",
              "      <td>0.188235</td>\n",
              "      <td>0.552941</td>\n",
              "      <td>0.538235</td>\n",
              "      <td>0.200980</td>\n",
              "      <td>0.513725</td>\n",
              "      <td>0.525490</td>\n",
              "      <td>0.224510</td>\n",
              "      <td>0.407843</td>\n",
              "      <td>0.400000</td>\n",
              "      <td>0.176471</td>\n",
              "      <td>0.398039</td>\n",
              "      <td>0.394118</td>\n",
              "      <td>0.160784</td>\n",
              "      <td>0.461765</td>\n",
              "      <td>0.466667</td>\n",
              "      <td>0.198039</td>\n",
              "      <td>0.515686</td>\n",
              "      <td>0.506863</td>\n",
              "      <td>0.286275</td>\n",
              "      <td>0.539216</td>\n",
              "      <td>0.523529</td>\n",
              "      <td>0.321569</td>\n",
              "      <td>0.660784</td>\n",
              "      <td>0.617647</td>\n",
              "      <td>0.358824</td>\n",
              "      <td>0.709804</td>\n",
              "      <td>0.593137</td>\n",
              "      <td>0.322549</td>\n",
              "      <td>0.807843</td>\n",
              "      <td>0.600000</td>\n",
              "      <td>0.217647</td>\n",
              "    </tr>\n",
              "    <tr>\n",
              "      <th>1</th>\n",
              "      <td>0.000000</td>\n",
              "      <td>0.000000</td>\n",
              "      <td>0.000000</td>\n",
              "      <td>0.000000</td>\n",
              "      <td>0.000000</td>\n",
              "      <td>0.000000</td>\n",
              "      <td>0.000000</td>\n",
              "      <td>0.000000</td>\n",
              "      <td>0.000000</td>\n",
              "      <td>0.000000</td>\n",
              "      <td>0.000000</td>\n",
              "      <td>0.000000</td>\n",
              "      <td>0.000000</td>\n",
              "      <td>0.000000</td>\n",
              "      <td>0.000000</td>\n",
              "      <td>0.000000</td>\n",
              "      <td>0.000000</td>\n",
              "      <td>0.000000</td>\n",
              "      <td>0.000000</td>\n",
              "      <td>0.000000</td>\n",
              "      <td>0.000000</td>\n",
              "      <td>0.000000</td>\n",
              "      <td>0.000000</td>\n",
              "      <td>0.000000</td>\n",
              "      <td>0.000000</td>\n",
              "      <td>0.000000</td>\n",
              "      <td>0.000000</td>\n",
              "      <td>0.000000</td>\n",
              "      <td>0.000000</td>\n",
              "      <td>0.000000</td>\n",
              "      <td>0.000000</td>\n",
              "      <td>0.000000</td>\n",
              "      <td>0.000000</td>\n",
              "      <td>0.000000</td>\n",
              "      <td>0.000000</td>\n",
              "      <td>0.000000</td>\n",
              "      <td>0.000000</td>\n",
              "      <td>0.000000</td>\n",
              "      <td>0.000000</td>\n",
              "      <td>0.000000</td>\n",
              "      <td>...</td>\n",
              "      <td>0.000000</td>\n",
              "      <td>0.000000</td>\n",
              "      <td>0.000000</td>\n",
              "      <td>0.000000</td>\n",
              "      <td>0.000000</td>\n",
              "      <td>0.000000</td>\n",
              "      <td>0.000000</td>\n",
              "      <td>0.000000</td>\n",
              "      <td>0.000000</td>\n",
              "      <td>0.000000</td>\n",
              "      <td>0.000000</td>\n",
              "      <td>0.000000</td>\n",
              "      <td>0.000000</td>\n",
              "      <td>0.000000</td>\n",
              "      <td>0.000000</td>\n",
              "      <td>0.000000</td>\n",
              "      <td>0.000000</td>\n",
              "      <td>0.000000</td>\n",
              "      <td>0.000000</td>\n",
              "      <td>0.000000</td>\n",
              "      <td>0.000000</td>\n",
              "      <td>0.000000</td>\n",
              "      <td>0.000000</td>\n",
              "      <td>0.000000</td>\n",
              "      <td>0.000000</td>\n",
              "      <td>0.000000</td>\n",
              "      <td>0.000000</td>\n",
              "      <td>0.000000</td>\n",
              "      <td>0.000000</td>\n",
              "      <td>0.000000</td>\n",
              "      <td>0.000000</td>\n",
              "      <td>0.000000</td>\n",
              "      <td>0.000000</td>\n",
              "      <td>0.000000</td>\n",
              "      <td>0.000000</td>\n",
              "      <td>0.000000</td>\n",
              "      <td>0.000000</td>\n",
              "      <td>0.000000</td>\n",
              "      <td>0.000000</td>\n",
              "      <td>0.000000</td>\n",
              "    </tr>\n",
              "    <tr>\n",
              "      <th>2</th>\n",
              "      <td>0.000000</td>\n",
              "      <td>0.000000</td>\n",
              "      <td>0.000000</td>\n",
              "      <td>0.000000</td>\n",
              "      <td>0.000000</td>\n",
              "      <td>0.000000</td>\n",
              "      <td>0.000000</td>\n",
              "      <td>0.000000</td>\n",
              "      <td>0.000000</td>\n",
              "      <td>0.000000</td>\n",
              "      <td>0.000000</td>\n",
              "      <td>0.000000</td>\n",
              "      <td>0.000000</td>\n",
              "      <td>0.000000</td>\n",
              "      <td>0.000000</td>\n",
              "      <td>0.000000</td>\n",
              "      <td>0.000000</td>\n",
              "      <td>0.000000</td>\n",
              "      <td>0.000000</td>\n",
              "      <td>0.000000</td>\n",
              "      <td>0.000000</td>\n",
              "      <td>0.000000</td>\n",
              "      <td>0.000000</td>\n",
              "      <td>0.000000</td>\n",
              "      <td>0.000000</td>\n",
              "      <td>0.000000</td>\n",
              "      <td>0.000000</td>\n",
              "      <td>0.000000</td>\n",
              "      <td>0.000000</td>\n",
              "      <td>0.000000</td>\n",
              "      <td>0.000000</td>\n",
              "      <td>0.000000</td>\n",
              "      <td>0.000000</td>\n",
              "      <td>0.000000</td>\n",
              "      <td>0.000000</td>\n",
              "      <td>0.000000</td>\n",
              "      <td>0.000000</td>\n",
              "      <td>0.000000</td>\n",
              "      <td>0.000000</td>\n",
              "      <td>0.000000</td>\n",
              "      <td>...</td>\n",
              "      <td>0.000000</td>\n",
              "      <td>0.000000</td>\n",
              "      <td>0.000000</td>\n",
              "      <td>0.000000</td>\n",
              "      <td>0.000000</td>\n",
              "      <td>0.000000</td>\n",
              "      <td>0.000000</td>\n",
              "      <td>0.000000</td>\n",
              "      <td>0.000000</td>\n",
              "      <td>0.000000</td>\n",
              "      <td>0.000000</td>\n",
              "      <td>0.000000</td>\n",
              "      <td>0.000000</td>\n",
              "      <td>0.000000</td>\n",
              "      <td>0.000000</td>\n",
              "      <td>0.000000</td>\n",
              "      <td>0.000000</td>\n",
              "      <td>0.000000</td>\n",
              "      <td>0.000000</td>\n",
              "      <td>0.000000</td>\n",
              "      <td>0.000000</td>\n",
              "      <td>0.000000</td>\n",
              "      <td>0.000000</td>\n",
              "      <td>0.000000</td>\n",
              "      <td>0.000000</td>\n",
              "      <td>0.000000</td>\n",
              "      <td>0.000000</td>\n",
              "      <td>0.000000</td>\n",
              "      <td>0.000000</td>\n",
              "      <td>0.000000</td>\n",
              "      <td>0.000000</td>\n",
              "      <td>0.000000</td>\n",
              "      <td>0.000000</td>\n",
              "      <td>0.000000</td>\n",
              "      <td>0.000000</td>\n",
              "      <td>0.000000</td>\n",
              "      <td>0.000000</td>\n",
              "      <td>0.000000</td>\n",
              "      <td>0.000000</td>\n",
              "      <td>0.000000</td>\n",
              "    </tr>\n",
              "    <tr>\n",
              "      <th>3</th>\n",
              "      <td>0.215686</td>\n",
              "      <td>0.164706</td>\n",
              "      <td>0.219608</td>\n",
              "      <td>0.219608</td>\n",
              "      <td>0.172549</td>\n",
              "      <td>0.227451</td>\n",
              "      <td>0.231373</td>\n",
              "      <td>0.179804</td>\n",
              "      <td>0.247059</td>\n",
              "      <td>0.241961</td>\n",
              "      <td>0.192431</td>\n",
              "      <td>0.265608</td>\n",
              "      <td>0.245882</td>\n",
              "      <td>0.198824</td>\n",
              "      <td>0.265490</td>\n",
              "      <td>0.239216</td>\n",
              "      <td>0.194902</td>\n",
              "      <td>0.266667</td>\n",
              "      <td>0.235294</td>\n",
              "      <td>0.188235</td>\n",
              "      <td>0.249922</td>\n",
              "      <td>0.222353</td>\n",
              "      <td>0.171961</td>\n",
              "      <td>0.222353</td>\n",
              "      <td>0.251255</td>\n",
              "      <td>0.175294</td>\n",
              "      <td>0.227451</td>\n",
              "      <td>0.282353</td>\n",
              "      <td>0.191804</td>\n",
              "      <td>0.243137</td>\n",
              "      <td>0.290196</td>\n",
              "      <td>0.196078</td>\n",
              "      <td>0.254902</td>\n",
              "      <td>0.286275</td>\n",
              "      <td>0.196078</td>\n",
              "      <td>0.258824</td>\n",
              "      <td>0.294118</td>\n",
              "      <td>0.200000</td>\n",
              "      <td>0.261569</td>\n",
              "      <td>0.278431</td>\n",
              "      <td>...</td>\n",
              "      <td>0.153216</td>\n",
              "      <td>0.092941</td>\n",
              "      <td>0.082353</td>\n",
              "      <td>0.145098</td>\n",
              "      <td>0.105882</td>\n",
              "      <td>0.095569</td>\n",
              "      <td>0.156863</td>\n",
              "      <td>0.105882</td>\n",
              "      <td>0.096863</td>\n",
              "      <td>0.159961</td>\n",
              "      <td>0.101961</td>\n",
              "      <td>0.092196</td>\n",
              "      <td>0.160784</td>\n",
              "      <td>0.105882</td>\n",
              "      <td>0.102078</td>\n",
              "      <td>0.160784</td>\n",
              "      <td>0.085098</td>\n",
              "      <td>0.077255</td>\n",
              "      <td>0.137255</td>\n",
              "      <td>0.114118</td>\n",
              "      <td>0.101961</td>\n",
              "      <td>0.152941</td>\n",
              "      <td>0.197647</td>\n",
              "      <td>0.155686</td>\n",
              "      <td>0.192157</td>\n",
              "      <td>0.284706</td>\n",
              "      <td>0.207843</td>\n",
              "      <td>0.223529</td>\n",
              "      <td>0.350196</td>\n",
              "      <td>0.248235</td>\n",
              "      <td>0.256078</td>\n",
              "      <td>0.306667</td>\n",
              "      <td>0.220392</td>\n",
              "      <td>0.232745</td>\n",
              "      <td>0.298039</td>\n",
              "      <td>0.211765</td>\n",
              "      <td>0.219725</td>\n",
              "      <td>0.300784</td>\n",
              "      <td>0.218431</td>\n",
              "      <td>0.223529</td>\n",
              "    </tr>\n",
              "    <tr>\n",
              "      <th>4</th>\n",
              "      <td>0.000000</td>\n",
              "      <td>0.000000</td>\n",
              "      <td>0.000000</td>\n",
              "      <td>0.000000</td>\n",
              "      <td>0.000000</td>\n",
              "      <td>0.000000</td>\n",
              "      <td>0.000000</td>\n",
              "      <td>0.000000</td>\n",
              "      <td>0.000000</td>\n",
              "      <td>0.000000</td>\n",
              "      <td>0.000000</td>\n",
              "      <td>0.000000</td>\n",
              "      <td>0.000000</td>\n",
              "      <td>0.000000</td>\n",
              "      <td>0.000000</td>\n",
              "      <td>0.000000</td>\n",
              "      <td>0.000000</td>\n",
              "      <td>0.000000</td>\n",
              "      <td>0.000000</td>\n",
              "      <td>0.000000</td>\n",
              "      <td>0.000000</td>\n",
              "      <td>0.000000</td>\n",
              "      <td>0.000000</td>\n",
              "      <td>0.000000</td>\n",
              "      <td>0.000000</td>\n",
              "      <td>0.000000</td>\n",
              "      <td>0.000000</td>\n",
              "      <td>0.000000</td>\n",
              "      <td>0.000000</td>\n",
              "      <td>0.000000</td>\n",
              "      <td>0.000000</td>\n",
              "      <td>0.000000</td>\n",
              "      <td>0.000000</td>\n",
              "      <td>0.000000</td>\n",
              "      <td>0.000000</td>\n",
              "      <td>0.000000</td>\n",
              "      <td>0.000000</td>\n",
              "      <td>0.000000</td>\n",
              "      <td>0.000000</td>\n",
              "      <td>0.000000</td>\n",
              "      <td>...</td>\n",
              "      <td>0.000000</td>\n",
              "      <td>0.000000</td>\n",
              "      <td>0.000000</td>\n",
              "      <td>0.000000</td>\n",
              "      <td>0.000000</td>\n",
              "      <td>0.000000</td>\n",
              "      <td>0.000000</td>\n",
              "      <td>0.000000</td>\n",
              "      <td>0.000000</td>\n",
              "      <td>0.000000</td>\n",
              "      <td>0.000000</td>\n",
              "      <td>0.000000</td>\n",
              "      <td>0.000000</td>\n",
              "      <td>0.000000</td>\n",
              "      <td>0.000000</td>\n",
              "      <td>0.000000</td>\n",
              "      <td>0.000000</td>\n",
              "      <td>0.000000</td>\n",
              "      <td>0.000000</td>\n",
              "      <td>0.000000</td>\n",
              "      <td>0.000000</td>\n",
              "      <td>0.000000</td>\n",
              "      <td>0.000000</td>\n",
              "      <td>0.000000</td>\n",
              "      <td>0.000000</td>\n",
              "      <td>0.000000</td>\n",
              "      <td>0.000000</td>\n",
              "      <td>0.000000</td>\n",
              "      <td>0.000000</td>\n",
              "      <td>0.000000</td>\n",
              "      <td>0.000000</td>\n",
              "      <td>0.000000</td>\n",
              "      <td>0.000000</td>\n",
              "      <td>0.000000</td>\n",
              "      <td>0.000000</td>\n",
              "      <td>0.000000</td>\n",
              "      <td>0.000000</td>\n",
              "      <td>0.000000</td>\n",
              "      <td>0.000000</td>\n",
              "      <td>0.000000</td>\n",
              "    </tr>\n",
              "  </tbody>\n",
              "</table>\n",
              "<p>5 rows × 7500 columns</p>\n",
              "</div>"
            ],
            "text/plain": [
              "       0         1         2     ...      7497      7498      7499\n",
              "0  0.169608  0.249020  0.219608  ...  0.807843  0.600000  0.217647\n",
              "1  0.000000  0.000000  0.000000  ...  0.000000  0.000000  0.000000\n",
              "2  0.000000  0.000000  0.000000  ...  0.000000  0.000000  0.000000\n",
              "3  0.215686  0.164706  0.219608  ...  0.300784  0.218431  0.223529\n",
              "4  0.000000  0.000000  0.000000  ...  0.000000  0.000000  0.000000\n",
              "\n",
              "[5 rows x 7500 columns]"
            ]
          },
          "metadata": {
            "tags": []
          },
          "execution_count": 65
        }
      ]
    },
    {
      "cell_type": "code",
      "metadata": {
        "id": "mAsTq-4Ccy0D",
        "colab_type": "code",
        "colab": {
          "base_uri": "https://localhost:8080/",
          "height": 247
        },
        "outputId": "e2b59446-715b-4dfc-8fbb-ee1345c36b5c"
      },
      "source": [
        "df['target']=target\n",
        "df.head()"
      ],
      "execution_count": 66,
      "outputs": [
        {
          "output_type": "execute_result",
          "data": {
            "text/html": [
              "<div>\n",
              "<style scoped>\n",
              "    .dataframe tbody tr th:only-of-type {\n",
              "        vertical-align: middle;\n",
              "    }\n",
              "\n",
              "    .dataframe tbody tr th {\n",
              "        vertical-align: top;\n",
              "    }\n",
              "\n",
              "    .dataframe thead th {\n",
              "        text-align: right;\n",
              "    }\n",
              "</style>\n",
              "<table border=\"1\" class=\"dataframe\">\n",
              "  <thead>\n",
              "    <tr style=\"text-align: right;\">\n",
              "      <th></th>\n",
              "      <th>0</th>\n",
              "      <th>1</th>\n",
              "      <th>2</th>\n",
              "      <th>3</th>\n",
              "      <th>4</th>\n",
              "      <th>5</th>\n",
              "      <th>6</th>\n",
              "      <th>7</th>\n",
              "      <th>8</th>\n",
              "      <th>9</th>\n",
              "      <th>10</th>\n",
              "      <th>11</th>\n",
              "      <th>12</th>\n",
              "      <th>13</th>\n",
              "      <th>14</th>\n",
              "      <th>15</th>\n",
              "      <th>16</th>\n",
              "      <th>17</th>\n",
              "      <th>18</th>\n",
              "      <th>19</th>\n",
              "      <th>20</th>\n",
              "      <th>21</th>\n",
              "      <th>22</th>\n",
              "      <th>23</th>\n",
              "      <th>24</th>\n",
              "      <th>25</th>\n",
              "      <th>26</th>\n",
              "      <th>27</th>\n",
              "      <th>28</th>\n",
              "      <th>29</th>\n",
              "      <th>30</th>\n",
              "      <th>31</th>\n",
              "      <th>32</th>\n",
              "      <th>33</th>\n",
              "      <th>34</th>\n",
              "      <th>35</th>\n",
              "      <th>36</th>\n",
              "      <th>37</th>\n",
              "      <th>38</th>\n",
              "      <th>39</th>\n",
              "      <th>...</th>\n",
              "      <th>7461</th>\n",
              "      <th>7462</th>\n",
              "      <th>7463</th>\n",
              "      <th>7464</th>\n",
              "      <th>7465</th>\n",
              "      <th>7466</th>\n",
              "      <th>7467</th>\n",
              "      <th>7468</th>\n",
              "      <th>7469</th>\n",
              "      <th>7470</th>\n",
              "      <th>7471</th>\n",
              "      <th>7472</th>\n",
              "      <th>7473</th>\n",
              "      <th>7474</th>\n",
              "      <th>7475</th>\n",
              "      <th>7476</th>\n",
              "      <th>7477</th>\n",
              "      <th>7478</th>\n",
              "      <th>7479</th>\n",
              "      <th>7480</th>\n",
              "      <th>7481</th>\n",
              "      <th>7482</th>\n",
              "      <th>7483</th>\n",
              "      <th>7484</th>\n",
              "      <th>7485</th>\n",
              "      <th>7486</th>\n",
              "      <th>7487</th>\n",
              "      <th>7488</th>\n",
              "      <th>7489</th>\n",
              "      <th>7490</th>\n",
              "      <th>7491</th>\n",
              "      <th>7492</th>\n",
              "      <th>7493</th>\n",
              "      <th>7494</th>\n",
              "      <th>7495</th>\n",
              "      <th>7496</th>\n",
              "      <th>7497</th>\n",
              "      <th>7498</th>\n",
              "      <th>7499</th>\n",
              "      <th>target</th>\n",
              "    </tr>\n",
              "  </thead>\n",
              "  <tbody>\n",
              "    <tr>\n",
              "      <th>0</th>\n",
              "      <td>0.169608</td>\n",
              "      <td>0.249020</td>\n",
              "      <td>0.219608</td>\n",
              "      <td>0.156863</td>\n",
              "      <td>0.220588</td>\n",
              "      <td>0.192157</td>\n",
              "      <td>0.145098</td>\n",
              "      <td>0.219608</td>\n",
              "      <td>0.188235</td>\n",
              "      <td>0.150000</td>\n",
              "      <td>0.240196</td>\n",
              "      <td>0.207843</td>\n",
              "      <td>0.164706</td>\n",
              "      <td>0.258824</td>\n",
              "      <td>0.221569</td>\n",
              "      <td>0.164706</td>\n",
              "      <td>0.271569</td>\n",
              "      <td>0.219608</td>\n",
              "      <td>0.160784</td>\n",
              "      <td>0.264706</td>\n",
              "      <td>0.211765</td>\n",
              "      <td>0.160784</td>\n",
              "      <td>0.274510</td>\n",
              "      <td>0.215686</td>\n",
              "      <td>0.172549</td>\n",
              "      <td>0.298039</td>\n",
              "      <td>0.228431</td>\n",
              "      <td>0.187255</td>\n",
              "      <td>0.301961</td>\n",
              "      <td>0.250980</td>\n",
              "      <td>0.185294</td>\n",
              "      <td>0.286275</td>\n",
              "      <td>0.258824</td>\n",
              "      <td>0.189216</td>\n",
              "      <td>0.278431</td>\n",
              "      <td>0.266667</td>\n",
              "      <td>0.192157</td>\n",
              "      <td>0.270588</td>\n",
              "      <td>0.262745</td>\n",
              "      <td>0.176471</td>\n",
              "      <td>...</td>\n",
              "      <td>0.643137</td>\n",
              "      <td>0.686275</td>\n",
              "      <td>0.342157</td>\n",
              "      <td>0.627451</td>\n",
              "      <td>0.668627</td>\n",
              "      <td>0.256863</td>\n",
              "      <td>0.545098</td>\n",
              "      <td>0.549020</td>\n",
              "      <td>0.188235</td>\n",
              "      <td>0.552941</td>\n",
              "      <td>0.538235</td>\n",
              "      <td>0.200980</td>\n",
              "      <td>0.513725</td>\n",
              "      <td>0.525490</td>\n",
              "      <td>0.224510</td>\n",
              "      <td>0.407843</td>\n",
              "      <td>0.400000</td>\n",
              "      <td>0.176471</td>\n",
              "      <td>0.398039</td>\n",
              "      <td>0.394118</td>\n",
              "      <td>0.160784</td>\n",
              "      <td>0.461765</td>\n",
              "      <td>0.466667</td>\n",
              "      <td>0.198039</td>\n",
              "      <td>0.515686</td>\n",
              "      <td>0.506863</td>\n",
              "      <td>0.286275</td>\n",
              "      <td>0.539216</td>\n",
              "      <td>0.523529</td>\n",
              "      <td>0.321569</td>\n",
              "      <td>0.660784</td>\n",
              "      <td>0.617647</td>\n",
              "      <td>0.358824</td>\n",
              "      <td>0.709804</td>\n",
              "      <td>0.593137</td>\n",
              "      <td>0.322549</td>\n",
              "      <td>0.807843</td>\n",
              "      <td>0.600000</td>\n",
              "      <td>0.217647</td>\n",
              "      <td>dog</td>\n",
              "    </tr>\n",
              "    <tr>\n",
              "      <th>1</th>\n",
              "      <td>0.000000</td>\n",
              "      <td>0.000000</td>\n",
              "      <td>0.000000</td>\n",
              "      <td>0.000000</td>\n",
              "      <td>0.000000</td>\n",
              "      <td>0.000000</td>\n",
              "      <td>0.000000</td>\n",
              "      <td>0.000000</td>\n",
              "      <td>0.000000</td>\n",
              "      <td>0.000000</td>\n",
              "      <td>0.000000</td>\n",
              "      <td>0.000000</td>\n",
              "      <td>0.000000</td>\n",
              "      <td>0.000000</td>\n",
              "      <td>0.000000</td>\n",
              "      <td>0.000000</td>\n",
              "      <td>0.000000</td>\n",
              "      <td>0.000000</td>\n",
              "      <td>0.000000</td>\n",
              "      <td>0.000000</td>\n",
              "      <td>0.000000</td>\n",
              "      <td>0.000000</td>\n",
              "      <td>0.000000</td>\n",
              "      <td>0.000000</td>\n",
              "      <td>0.000000</td>\n",
              "      <td>0.000000</td>\n",
              "      <td>0.000000</td>\n",
              "      <td>0.000000</td>\n",
              "      <td>0.000000</td>\n",
              "      <td>0.000000</td>\n",
              "      <td>0.000000</td>\n",
              "      <td>0.000000</td>\n",
              "      <td>0.000000</td>\n",
              "      <td>0.000000</td>\n",
              "      <td>0.000000</td>\n",
              "      <td>0.000000</td>\n",
              "      <td>0.000000</td>\n",
              "      <td>0.000000</td>\n",
              "      <td>0.000000</td>\n",
              "      <td>0.000000</td>\n",
              "      <td>...</td>\n",
              "      <td>0.000000</td>\n",
              "      <td>0.000000</td>\n",
              "      <td>0.000000</td>\n",
              "      <td>0.000000</td>\n",
              "      <td>0.000000</td>\n",
              "      <td>0.000000</td>\n",
              "      <td>0.000000</td>\n",
              "      <td>0.000000</td>\n",
              "      <td>0.000000</td>\n",
              "      <td>0.000000</td>\n",
              "      <td>0.000000</td>\n",
              "      <td>0.000000</td>\n",
              "      <td>0.000000</td>\n",
              "      <td>0.000000</td>\n",
              "      <td>0.000000</td>\n",
              "      <td>0.000000</td>\n",
              "      <td>0.000000</td>\n",
              "      <td>0.000000</td>\n",
              "      <td>0.000000</td>\n",
              "      <td>0.000000</td>\n",
              "      <td>0.000000</td>\n",
              "      <td>0.000000</td>\n",
              "      <td>0.000000</td>\n",
              "      <td>0.000000</td>\n",
              "      <td>0.000000</td>\n",
              "      <td>0.000000</td>\n",
              "      <td>0.000000</td>\n",
              "      <td>0.000000</td>\n",
              "      <td>0.000000</td>\n",
              "      <td>0.000000</td>\n",
              "      <td>0.000000</td>\n",
              "      <td>0.000000</td>\n",
              "      <td>0.000000</td>\n",
              "      <td>0.000000</td>\n",
              "      <td>0.000000</td>\n",
              "      <td>0.000000</td>\n",
              "      <td>0.000000</td>\n",
              "      <td>0.000000</td>\n",
              "      <td>0.000000</td>\n",
              "      <td>dog</td>\n",
              "    </tr>\n",
              "    <tr>\n",
              "      <th>2</th>\n",
              "      <td>0.000000</td>\n",
              "      <td>0.000000</td>\n",
              "      <td>0.000000</td>\n",
              "      <td>0.000000</td>\n",
              "      <td>0.000000</td>\n",
              "      <td>0.000000</td>\n",
              "      <td>0.000000</td>\n",
              "      <td>0.000000</td>\n",
              "      <td>0.000000</td>\n",
              "      <td>0.000000</td>\n",
              "      <td>0.000000</td>\n",
              "      <td>0.000000</td>\n",
              "      <td>0.000000</td>\n",
              "      <td>0.000000</td>\n",
              "      <td>0.000000</td>\n",
              "      <td>0.000000</td>\n",
              "      <td>0.000000</td>\n",
              "      <td>0.000000</td>\n",
              "      <td>0.000000</td>\n",
              "      <td>0.000000</td>\n",
              "      <td>0.000000</td>\n",
              "      <td>0.000000</td>\n",
              "      <td>0.000000</td>\n",
              "      <td>0.000000</td>\n",
              "      <td>0.000000</td>\n",
              "      <td>0.000000</td>\n",
              "      <td>0.000000</td>\n",
              "      <td>0.000000</td>\n",
              "      <td>0.000000</td>\n",
              "      <td>0.000000</td>\n",
              "      <td>0.000000</td>\n",
              "      <td>0.000000</td>\n",
              "      <td>0.000000</td>\n",
              "      <td>0.000000</td>\n",
              "      <td>0.000000</td>\n",
              "      <td>0.000000</td>\n",
              "      <td>0.000000</td>\n",
              "      <td>0.000000</td>\n",
              "      <td>0.000000</td>\n",
              "      <td>0.000000</td>\n",
              "      <td>...</td>\n",
              "      <td>0.000000</td>\n",
              "      <td>0.000000</td>\n",
              "      <td>0.000000</td>\n",
              "      <td>0.000000</td>\n",
              "      <td>0.000000</td>\n",
              "      <td>0.000000</td>\n",
              "      <td>0.000000</td>\n",
              "      <td>0.000000</td>\n",
              "      <td>0.000000</td>\n",
              "      <td>0.000000</td>\n",
              "      <td>0.000000</td>\n",
              "      <td>0.000000</td>\n",
              "      <td>0.000000</td>\n",
              "      <td>0.000000</td>\n",
              "      <td>0.000000</td>\n",
              "      <td>0.000000</td>\n",
              "      <td>0.000000</td>\n",
              "      <td>0.000000</td>\n",
              "      <td>0.000000</td>\n",
              "      <td>0.000000</td>\n",
              "      <td>0.000000</td>\n",
              "      <td>0.000000</td>\n",
              "      <td>0.000000</td>\n",
              "      <td>0.000000</td>\n",
              "      <td>0.000000</td>\n",
              "      <td>0.000000</td>\n",
              "      <td>0.000000</td>\n",
              "      <td>0.000000</td>\n",
              "      <td>0.000000</td>\n",
              "      <td>0.000000</td>\n",
              "      <td>0.000000</td>\n",
              "      <td>0.000000</td>\n",
              "      <td>0.000000</td>\n",
              "      <td>0.000000</td>\n",
              "      <td>0.000000</td>\n",
              "      <td>0.000000</td>\n",
              "      <td>0.000000</td>\n",
              "      <td>0.000000</td>\n",
              "      <td>0.000000</td>\n",
              "      <td>dog</td>\n",
              "    </tr>\n",
              "    <tr>\n",
              "      <th>3</th>\n",
              "      <td>0.215686</td>\n",
              "      <td>0.164706</td>\n",
              "      <td>0.219608</td>\n",
              "      <td>0.219608</td>\n",
              "      <td>0.172549</td>\n",
              "      <td>0.227451</td>\n",
              "      <td>0.231373</td>\n",
              "      <td>0.179804</td>\n",
              "      <td>0.247059</td>\n",
              "      <td>0.241961</td>\n",
              "      <td>0.192431</td>\n",
              "      <td>0.265608</td>\n",
              "      <td>0.245882</td>\n",
              "      <td>0.198824</td>\n",
              "      <td>0.265490</td>\n",
              "      <td>0.239216</td>\n",
              "      <td>0.194902</td>\n",
              "      <td>0.266667</td>\n",
              "      <td>0.235294</td>\n",
              "      <td>0.188235</td>\n",
              "      <td>0.249922</td>\n",
              "      <td>0.222353</td>\n",
              "      <td>0.171961</td>\n",
              "      <td>0.222353</td>\n",
              "      <td>0.251255</td>\n",
              "      <td>0.175294</td>\n",
              "      <td>0.227451</td>\n",
              "      <td>0.282353</td>\n",
              "      <td>0.191804</td>\n",
              "      <td>0.243137</td>\n",
              "      <td>0.290196</td>\n",
              "      <td>0.196078</td>\n",
              "      <td>0.254902</td>\n",
              "      <td>0.286275</td>\n",
              "      <td>0.196078</td>\n",
              "      <td>0.258824</td>\n",
              "      <td>0.294118</td>\n",
              "      <td>0.200000</td>\n",
              "      <td>0.261569</td>\n",
              "      <td>0.278431</td>\n",
              "      <td>...</td>\n",
              "      <td>0.092941</td>\n",
              "      <td>0.082353</td>\n",
              "      <td>0.145098</td>\n",
              "      <td>0.105882</td>\n",
              "      <td>0.095569</td>\n",
              "      <td>0.156863</td>\n",
              "      <td>0.105882</td>\n",
              "      <td>0.096863</td>\n",
              "      <td>0.159961</td>\n",
              "      <td>0.101961</td>\n",
              "      <td>0.092196</td>\n",
              "      <td>0.160784</td>\n",
              "      <td>0.105882</td>\n",
              "      <td>0.102078</td>\n",
              "      <td>0.160784</td>\n",
              "      <td>0.085098</td>\n",
              "      <td>0.077255</td>\n",
              "      <td>0.137255</td>\n",
              "      <td>0.114118</td>\n",
              "      <td>0.101961</td>\n",
              "      <td>0.152941</td>\n",
              "      <td>0.197647</td>\n",
              "      <td>0.155686</td>\n",
              "      <td>0.192157</td>\n",
              "      <td>0.284706</td>\n",
              "      <td>0.207843</td>\n",
              "      <td>0.223529</td>\n",
              "      <td>0.350196</td>\n",
              "      <td>0.248235</td>\n",
              "      <td>0.256078</td>\n",
              "      <td>0.306667</td>\n",
              "      <td>0.220392</td>\n",
              "      <td>0.232745</td>\n",
              "      <td>0.298039</td>\n",
              "      <td>0.211765</td>\n",
              "      <td>0.219725</td>\n",
              "      <td>0.300784</td>\n",
              "      <td>0.218431</td>\n",
              "      <td>0.223529</td>\n",
              "      <td>dog</td>\n",
              "    </tr>\n",
              "    <tr>\n",
              "      <th>4</th>\n",
              "      <td>0.000000</td>\n",
              "      <td>0.000000</td>\n",
              "      <td>0.000000</td>\n",
              "      <td>0.000000</td>\n",
              "      <td>0.000000</td>\n",
              "      <td>0.000000</td>\n",
              "      <td>0.000000</td>\n",
              "      <td>0.000000</td>\n",
              "      <td>0.000000</td>\n",
              "      <td>0.000000</td>\n",
              "      <td>0.000000</td>\n",
              "      <td>0.000000</td>\n",
              "      <td>0.000000</td>\n",
              "      <td>0.000000</td>\n",
              "      <td>0.000000</td>\n",
              "      <td>0.000000</td>\n",
              "      <td>0.000000</td>\n",
              "      <td>0.000000</td>\n",
              "      <td>0.000000</td>\n",
              "      <td>0.000000</td>\n",
              "      <td>0.000000</td>\n",
              "      <td>0.000000</td>\n",
              "      <td>0.000000</td>\n",
              "      <td>0.000000</td>\n",
              "      <td>0.000000</td>\n",
              "      <td>0.000000</td>\n",
              "      <td>0.000000</td>\n",
              "      <td>0.000000</td>\n",
              "      <td>0.000000</td>\n",
              "      <td>0.000000</td>\n",
              "      <td>0.000000</td>\n",
              "      <td>0.000000</td>\n",
              "      <td>0.000000</td>\n",
              "      <td>0.000000</td>\n",
              "      <td>0.000000</td>\n",
              "      <td>0.000000</td>\n",
              "      <td>0.000000</td>\n",
              "      <td>0.000000</td>\n",
              "      <td>0.000000</td>\n",
              "      <td>0.000000</td>\n",
              "      <td>...</td>\n",
              "      <td>0.000000</td>\n",
              "      <td>0.000000</td>\n",
              "      <td>0.000000</td>\n",
              "      <td>0.000000</td>\n",
              "      <td>0.000000</td>\n",
              "      <td>0.000000</td>\n",
              "      <td>0.000000</td>\n",
              "      <td>0.000000</td>\n",
              "      <td>0.000000</td>\n",
              "      <td>0.000000</td>\n",
              "      <td>0.000000</td>\n",
              "      <td>0.000000</td>\n",
              "      <td>0.000000</td>\n",
              "      <td>0.000000</td>\n",
              "      <td>0.000000</td>\n",
              "      <td>0.000000</td>\n",
              "      <td>0.000000</td>\n",
              "      <td>0.000000</td>\n",
              "      <td>0.000000</td>\n",
              "      <td>0.000000</td>\n",
              "      <td>0.000000</td>\n",
              "      <td>0.000000</td>\n",
              "      <td>0.000000</td>\n",
              "      <td>0.000000</td>\n",
              "      <td>0.000000</td>\n",
              "      <td>0.000000</td>\n",
              "      <td>0.000000</td>\n",
              "      <td>0.000000</td>\n",
              "      <td>0.000000</td>\n",
              "      <td>0.000000</td>\n",
              "      <td>0.000000</td>\n",
              "      <td>0.000000</td>\n",
              "      <td>0.000000</td>\n",
              "      <td>0.000000</td>\n",
              "      <td>0.000000</td>\n",
              "      <td>0.000000</td>\n",
              "      <td>0.000000</td>\n",
              "      <td>0.000000</td>\n",
              "      <td>0.000000</td>\n",
              "      <td>dog</td>\n",
              "    </tr>\n",
              "  </tbody>\n",
              "</table>\n",
              "<p>5 rows × 7501 columns</p>\n",
              "</div>"
            ],
            "text/plain": [
              "          0         1         2         3  ...      7497      7498      7499  target\n",
              "0  0.169608  0.249020  0.219608  0.156863  ...  0.807843  0.600000  0.217647     dog\n",
              "1  0.000000  0.000000  0.000000  0.000000  ...  0.000000  0.000000  0.000000     dog\n",
              "2  0.000000  0.000000  0.000000  0.000000  ...  0.000000  0.000000  0.000000     dog\n",
              "3  0.215686  0.164706  0.219608  0.219608  ...  0.300784  0.218431  0.223529     dog\n",
              "4  0.000000  0.000000  0.000000  0.000000  ...  0.000000  0.000000  0.000000     dog\n",
              "\n",
              "[5 rows x 7501 columns]"
            ]
          },
          "metadata": {
            "tags": []
          },
          "execution_count": 66
        }
      ]
    },
    {
      "cell_type": "code",
      "metadata": {
        "id": "cB3n5gjHdQMU",
        "colab_type": "code",
        "colab": {}
      },
      "source": [
        "x=df.drop(columns=['target'])\n",
        "y=df['target']"
      ],
      "execution_count": 67,
      "outputs": []
    },
    {
      "cell_type": "code",
      "metadata": {
        "id": "mqh0ECD8c2S1",
        "colab_type": "code",
        "colab": {
          "base_uri": "https://localhost:8080/",
          "height": 34
        },
        "outputId": "a2c441b3-9830-40fd-a8b5-cefba1225d69"
      },
      "source": [
        "from sklearn.model_selection import train_test_split\n",
        "x_train,x_test,y_train,y_test=train_test_split(x,y,random_state=0)\n",
        "x_train.shape,x_test.shape,y_train.shape,y_test.shape\n"
      ],
      "execution_count": 68,
      "outputs": [
        {
          "output_type": "execute_result",
          "data": {
            "text/plain": [
              "((30, 7500), (10, 7500), (30,), (10,))"
            ]
          },
          "metadata": {
            "tags": []
          },
          "execution_count": 68
        }
      ]
    },
    {
      "cell_type": "code",
      "metadata": {
        "id": "4H7MwgWheWsk",
        "colab_type": "code",
        "colab": {}
      },
      "source": [
        "#y_test"
      ],
      "execution_count": 51,
      "outputs": []
    },
    {
      "cell_type": "markdown",
      "metadata": {
        "id": "KLH7WysQmvCx",
        "colab_type": "text"
      },
      "source": [
        "**Applying Kneighbours classifier**"
      ]
    },
    {
      "cell_type": "code",
      "metadata": {
        "id": "WY6_dqJEeZx8",
        "colab_type": "code",
        "colab": {
          "base_uri": "https://localhost:8080/",
          "height": 52
        },
        "outputId": "bb90206b-617d-4a52-cdf0-017e62814a0b"
      },
      "source": [
        "#USING NEIGHBOURS sqrt of rows (manually calculating the n_neighbours)\n",
        "from sklearn.neighbors import KNeighborsClassifier\n",
        "model=KNeighborsClassifier(n_neighbors=6)\n",
        "model.fit(x_train,y_train)\n",
        "pred=model.predict(x_test)\n",
        "pred"
      ],
      "execution_count": 69,
      "outputs": [
        {
          "output_type": "execute_result",
          "data": {
            "text/plain": [
              "array(['dog', 'cat', 'cat', 'cat', 'cat', 'dog', 'cat', 'dog', 'dog',\n",
              "       'cat'], dtype=object)"
            ]
          },
          "metadata": {
            "tags": []
          },
          "execution_count": 69
        }
      ]
    },
    {
      "cell_type": "code",
      "metadata": {
        "id": "yCOoAzIIgOZf",
        "colab_type": "code",
        "colab": {
          "base_uri": "https://localhost:8080/",
          "height": 52
        },
        "outputId": "7af69b0d-cbe0-425a-e763-c55b96850244"
      },
      "source": [
        "import numpy as np\n",
        "a=np.array(y_test)\n",
        "a"
      ],
      "execution_count": 70,
      "outputs": [
        {
          "output_type": "execute_result",
          "data": {
            "text/plain": [
              "array(['cat', 'cat', 'cat', 'dog', 'dog', 'dog', 'cat', 'dog', 'dog',\n",
              "       'cat'], dtype=object)"
            ]
          },
          "metadata": {
            "tags": []
          },
          "execution_count": 70
        }
      ]
    },
    {
      "cell_type": "code",
      "metadata": {
        "id": "ySGcRW7KfrIP",
        "colab_type": "code",
        "colab": {}
      },
      "source": [
        "#y_test"
      ],
      "execution_count": 11,
      "outputs": []
    },
    {
      "cell_type": "code",
      "metadata": {
        "id": "Z7Ub84CjuDSU",
        "colab_type": "code",
        "colab": {
          "base_uri": "https://localhost:8080/",
          "height": 207
        },
        "outputId": "2b2fa320-b580-4986-bc87-87c354298d06"
      },
      "source": [
        "from sklearn.metrics import classification_report,confusion_matrix\n",
        "print(classification_report(y_test,pred))\n",
        "print(confusion_matrix(y_test,pred))"
      ],
      "execution_count": 71,
      "outputs": [
        {
          "output_type": "stream",
          "text": [
            "              precision    recall  f1-score   support\n",
            "\n",
            "         cat       0.67      0.80      0.73         5\n",
            "         dog       0.75      0.60      0.67         5\n",
            "\n",
            "    accuracy                           0.70        10\n",
            "   macro avg       0.71      0.70      0.70        10\n",
            "weighted avg       0.71      0.70      0.70        10\n",
            "\n",
            "[[4 1]\n",
            " [2 3]]\n"
          ],
          "name": "stdout"
        }
      ]
    },
    {
      "cell_type": "markdown",
      "metadata": {
        "id": "biPyXy5-rdX9",
        "colab_type": "text"
      },
      "source": [
        "# aplying gridsearchcv "
      ]
    },
    {
      "cell_type": "code",
      "metadata": {
        "id": "Guv-Wa32g_DM",
        "colab_type": "code",
        "colab": {
          "base_uri": "https://localhost:8080/",
          "height": 52
        },
        "outputId": "fcddfd39-d92f-4f44-eb78-0fee96eed588"
      },
      "source": [
        "z = np.arange(1,25)\n",
        "z"
      ],
      "execution_count": 13,
      "outputs": [
        {
          "output_type": "execute_result",
          "data": {
            "text/plain": [
              "array([ 1,  2,  3,  4,  5,  6,  7,  8,  9, 10, 11, 12, 13, 14, 15, 16, 17,\n",
              "       18, 19, 20, 21, 22, 23, 24])"
            ]
          },
          "metadata": {
            "tags": []
          },
          "execution_count": 13
        }
      ]
    },
    {
      "cell_type": "code",
      "metadata": {
        "id": "NtkPgo2srq-H",
        "colab_type": "code",
        "colab": {
          "base_uri": "https://localhost:8080/",
          "height": 207
        },
        "outputId": "8d8c3d7b-9faa-41f6-95f6-b4afd711c5a5"
      },
      "source": [
        "from sklearn.model_selection import GridSearchCV\n",
        "param={'n_neighbors':z}   #LET US DEFINE A DICTIONARY\n",
        "model = KNeighborsClassifier()\n",
        "model_grid = GridSearchCV(model,param)   #ITS TAKES 2 PARAMETRS \n",
        "#LIKE IT TELLS TO 'model' to TAKE PARAM AS 'Z',SO WE WRITEEN {'n_neighbors':z}  ,AND STORES IN 'model_grid '\n",
        "model_grid.fit(x_train,y_train)\n"
      ],
      "execution_count": 14,
      "outputs": [
        {
          "output_type": "execute_result",
          "data": {
            "text/plain": [
              "GridSearchCV(cv=None, error_score=nan,\n",
              "             estimator=KNeighborsClassifier(algorithm='auto', leaf_size=30,\n",
              "                                            metric='minkowski',\n",
              "                                            metric_params=None, n_jobs=None,\n",
              "                                            n_neighbors=5, p=2,\n",
              "                                            weights='uniform'),\n",
              "             iid='deprecated', n_jobs=None,\n",
              "             param_grid={'n_neighbors': array([ 1,  2,  3,  4,  5,  6,  7,  8,  9, 10, 11, 12, 13, 14, 15, 16, 17,\n",
              "       18, 19, 20, 21, 22, 23, 24])},\n",
              "             pre_dispatch='2*n_jobs', refit=True, return_train_score=False,\n",
              "             scoring=None, verbose=0)"
            ]
          },
          "metadata": {
            "tags": []
          },
          "execution_count": 14
        }
      ]
    },
    {
      "cell_type": "code",
      "metadata": {
        "id": "KQHMY3Zbr5Y1",
        "colab_type": "code",
        "colab": {
          "base_uri": "https://localhost:8080/",
          "height": 34
        },
        "outputId": "0e347abc-08cf-472e-c532-d607bb857a21"
      },
      "source": [
        "model_grid.best_params_"
      ],
      "execution_count": 15,
      "outputs": [
        {
          "output_type": "execute_result",
          "data": {
            "text/plain": [
              "{'n_neighbors': 8}"
            ]
          },
          "metadata": {
            "tags": []
          },
          "execution_count": 15
        }
      ]
    },
    {
      "cell_type": "code",
      "metadata": {
        "id": "GGHEqJgkswh-",
        "colab_type": "code",
        "colab": {
          "base_uri": "https://localhost:8080/",
          "height": 52
        },
        "outputId": "e49e3fcf-efb5-499a-b90e-4c8be106675b"
      },
      "source": [
        "from sklearn.neighbors import KNeighborsClassifier\n",
        "model=KNeighborsClassifier(n_neighbors=8)\n",
        "model.fit(x_train,y_train)\n",
        "pred=model.predict(x_test)\n",
        "pred"
      ],
      "execution_count": 16,
      "outputs": [
        {
          "output_type": "execute_result",
          "data": {
            "text/plain": [
              "array(['cat', 'cat', 'cat', 'cat', 'dog', 'dog', 'cat', 'dog', 'dog',\n",
              "       'dog'], dtype=object)"
            ]
          },
          "metadata": {
            "tags": []
          },
          "execution_count": 16
        }
      ]
    },
    {
      "cell_type": "markdown",
      "metadata": {
        "id": "cVJ5Bs2jm1fW",
        "colab_type": "text"
      },
      "source": [
        "# Applying classification report and confusion matrix"
      ]
    },
    {
      "cell_type": "code",
      "metadata": {
        "id": "w2O2IvVAfubq",
        "colab_type": "code",
        "colab": {
          "base_uri": "https://localhost:8080/",
          "height": 207
        },
        "outputId": "5c554bf2-337f-4489-c83f-2c4bc8260eca"
      },
      "source": [
        "from sklearn.metrics import classification_report,confusion_matrix\n",
        "print(classification_report(y_test,pred))\n",
        "print(confusion_matrix(y_test,pred))"
      ],
      "execution_count": 17,
      "outputs": [
        {
          "output_type": "stream",
          "text": [
            "              precision    recall  f1-score   support\n",
            "\n",
            "         cat       0.80      0.80      0.80         5\n",
            "         dog       0.80      0.80      0.80         5\n",
            "\n",
            "    accuracy                           0.80        10\n",
            "   macro avg       0.80      0.80      0.80        10\n",
            "weighted avg       0.80      0.80      0.80        10\n",
            "\n",
            "[[4 1]\n",
            " [1 4]]\n"
          ],
          "name": "stdout"
        }
      ]
    },
    {
      "cell_type": "markdown",
      "metadata": {
        "id": "HuWpkoJJkbYu",
        "colab_type": "text"
      },
      "source": [
        "#applying logistic regression"
      ]
    },
    {
      "cell_type": "code",
      "metadata": {
        "id": "Go0UIgtug32-",
        "colab_type": "code",
        "colab": {
          "base_uri": "https://localhost:8080/",
          "height": 210
        },
        "outputId": "60749f8d-6e20-4861-9ff6-cd9d84d0cdb1"
      },
      "source": [
        "from sklearn.linear_model import LogisticRegression as LR\n",
        "m=LR(class_weight='balanced')\n",
        "m.fit(x_train,y_train)\n",
        "pred=m.predict(x_test)\n",
        "pred"
      ],
      "execution_count": null,
      "outputs": [
        {
          "output_type": "stream",
          "text": [
            "/usr/local/lib/python3.6/dist-packages/sklearn/linear_model/_logistic.py:940: ConvergenceWarning: lbfgs failed to converge (status=1):\n",
            "STOP: TOTAL NO. of ITERATIONS REACHED LIMIT.\n",
            "\n",
            "Increase the number of iterations (max_iter) or scale the data as shown in:\n",
            "    https://scikit-learn.org/stable/modules/preprocessing.html\n",
            "Please also refer to the documentation for alternative solver options:\n",
            "    https://scikit-learn.org/stable/modules/linear_model.html#logistic-regression\n",
            "  extra_warning_msg=_LOGISTIC_SOLVER_CONVERGENCE_MSG)\n"
          ],
          "name": "stderr"
        },
        {
          "output_type": "execute_result",
          "data": {
            "text/plain": [
              "array(['dog', 'cat', 'dog', 'dog', 'cat', 'dog', 'cat', 'dog', 'dog',\n",
              "       'cat'], dtype=object)"
            ]
          },
          "metadata": {
            "tags": []
          },
          "execution_count": 213
        }
      ]
    },
    {
      "cell_type": "code",
      "metadata": {
        "id": "E7f_BPvPkMR7",
        "colab_type": "code",
        "colab": {
          "base_uri": "https://localhost:8080/",
          "height": 52
        },
        "outputId": "877bd641-fe67-4e9e-8a08-5ef5768430d1"
      },
      "source": [
        "a"
      ],
      "execution_count": null,
      "outputs": [
        {
          "output_type": "execute_result",
          "data": {
            "text/plain": [
              "array(['cat', 'cat', 'cat', 'dog', 'dog', 'dog', 'cat', 'dog', 'dog',\n",
              "       'cat'], dtype=object)"
            ]
          },
          "metadata": {
            "tags": []
          },
          "execution_count": 214
        }
      ]
    },
    {
      "cell_type": "code",
      "metadata": {
        "id": "1NScr-TWiVgP",
        "colab_type": "code",
        "colab": {
          "base_uri": "https://localhost:8080/",
          "height": 207
        },
        "outputId": "36ba4362-348d-4277-952b-d9a9e05508b3"
      },
      "source": [
        "from sklearn.metrics import classification_report,confusion_matrix\n",
        "print(classification_report(y_test,pred))\n",
        "print(confusion_matrix(y_test,pred))"
      ],
      "execution_count": null,
      "outputs": [
        {
          "output_type": "stream",
          "text": [
            "              precision    recall  f1-score   support\n",
            "\n",
            "         cat       0.75      0.60      0.67         5\n",
            "         dog       0.67      0.80      0.73         5\n",
            "\n",
            "    accuracy                           0.70        10\n",
            "   macro avg       0.71      0.70      0.70        10\n",
            "weighted avg       0.71      0.70      0.70        10\n",
            "\n",
            "[[3 2]\n",
            " [1 4]]\n"
          ],
          "name": "stdout"
        }
      ]
    },
    {
      "cell_type": "markdown",
      "metadata": {
        "id": "TfJohSeXkm5d",
        "colab_type": "text"
      },
      "source": [
        "# applying decesion tree classifier"
      ]
    },
    {
      "cell_type": "code",
      "metadata": {
        "id": "qLjYffa8hyp6",
        "colab_type": "code",
        "colab": {
          "base_uri": "https://localhost:8080/",
          "height": 52
        },
        "outputId": "a3628c38-bea4-4964-8e33-4e937b55605f"
      },
      "source": [
        "from sklearn.tree import DecisionTreeClassifier as DTC\n",
        "mod=DTC(class_weight='balanced')\n",
        "mod.fit(x_train,y_train)\n",
        "pred=mod.predict(x_test)\n",
        "pred"
      ],
      "execution_count": null,
      "outputs": [
        {
          "output_type": "execute_result",
          "data": {
            "text/plain": [
              "array(['dog', 'dog', 'cat', 'dog', 'dog', 'dog', 'dog', 'dog', 'dog',\n",
              "       'dog'], dtype=object)"
            ]
          },
          "metadata": {
            "tags": []
          },
          "execution_count": 216
        }
      ]
    },
    {
      "cell_type": "code",
      "metadata": {
        "id": "KjqhlhXhhTmG",
        "colab_type": "code",
        "colab": {
          "base_uri": "https://localhost:8080/",
          "height": 52
        },
        "outputId": "41e8a157-a46d-4237-a672-984a4b0acf3f"
      },
      "source": [
        "a"
      ],
      "execution_count": null,
      "outputs": [
        {
          "output_type": "execute_result",
          "data": {
            "text/plain": [
              "array(['cat', 'cat', 'cat', 'dog', 'dog', 'dog', 'cat', 'dog', 'dog',\n",
              "       'cat'], dtype=object)"
            ]
          },
          "metadata": {
            "tags": []
          },
          "execution_count": 217
        }
      ]
    },
    {
      "cell_type": "code",
      "metadata": {
        "id": "yzf5lWmcheXY",
        "colab_type": "code",
        "colab": {
          "base_uri": "https://localhost:8080/",
          "height": 207
        },
        "outputId": "84c4c754-4be4-4c97-91ec-fe28498a57e9"
      },
      "source": [
        "from sklearn.metrics import classification_report,confusion_matrix\n",
        "print(classification_report(y_test,pred))\n",
        "print(confusion_matrix(y_test,pred))"
      ],
      "execution_count": null,
      "outputs": [
        {
          "output_type": "stream",
          "text": [
            "              precision    recall  f1-score   support\n",
            "\n",
            "         cat       1.00      0.20      0.33         5\n",
            "         dog       0.56      1.00      0.71         5\n",
            "\n",
            "    accuracy                           0.60        10\n",
            "   macro avg       0.78      0.60      0.52        10\n",
            "weighted avg       0.78      0.60      0.52        10\n",
            "\n",
            "[[1 4]\n",
            " [0 5]]\n"
          ],
          "name": "stdout"
        }
      ]
    },
    {
      "cell_type": "markdown",
      "metadata": {
        "id": "tW_qI8gumNFR",
        "colab_type": "text"
      },
      "source": [
        "**Applying support vector machine**"
      ]
    },
    {
      "cell_type": "code",
      "metadata": {
        "id": "AwufKBsdhk1_",
        "colab_type": "code",
        "colab": {
          "base_uri": "https://localhost:8080/",
          "height": 52
        },
        "outputId": "d7ab4f63-08e1-4062-8a1a-07ce232496a8"
      },
      "source": [
        "from sklearn import svm\n",
        "mod=svm.SVC()\n",
        "mod.fit(x_train,y_train)\n",
        "pred=mod.predict(x_test)\n",
        "\n",
        "pred"
      ],
      "execution_count": null,
      "outputs": [
        {
          "output_type": "execute_result",
          "data": {
            "text/plain": [
              "array(['dog', 'cat', 'cat', 'dog', 'cat', 'cat', 'cat', 'dog', 'dog',\n",
              "       'cat'], dtype=object)"
            ]
          },
          "metadata": {
            "tags": []
          },
          "execution_count": 219
        }
      ]
    },
    {
      "cell_type": "code",
      "metadata": {
        "id": "6X5k0KTkk4Ff",
        "colab_type": "code",
        "colab": {
          "base_uri": "https://localhost:8080/",
          "height": 52
        },
        "outputId": "1f035bd9-6e0c-48a9-b603-d878381e9912"
      },
      "source": [
        "a"
      ],
      "execution_count": null,
      "outputs": [
        {
          "output_type": "execute_result",
          "data": {
            "text/plain": [
              "array(['cat', 'cat', 'cat', 'dog', 'dog', 'dog', 'cat', 'dog', 'dog',\n",
              "       'cat'], dtype=object)"
            ]
          },
          "metadata": {
            "tags": []
          },
          "execution_count": 220
        }
      ]
    },
    {
      "cell_type": "code",
      "metadata": {
        "id": "2lOI93Y2mElX",
        "colab_type": "code",
        "colab": {
          "base_uri": "https://localhost:8080/",
          "height": 207
        },
        "outputId": "7d4d43de-f89f-4747-cfda-a2324948ad76"
      },
      "source": [
        "from sklearn.metrics import classification_report,confusion_matrix\n",
        "print(classification_report(y_test,pred))\n",
        "print(confusion_matrix(y_test,pred))"
      ],
      "execution_count": null,
      "outputs": [
        {
          "output_type": "stream",
          "text": [
            "              precision    recall  f1-score   support\n",
            "\n",
            "         cat       0.67      0.80      0.73         5\n",
            "         dog       0.75      0.60      0.67         5\n",
            "\n",
            "    accuracy                           0.70        10\n",
            "   macro avg       0.71      0.70      0.70        10\n",
            "weighted avg       0.71      0.70      0.70        10\n",
            "\n",
            "[[4 1]\n",
            " [2 3]]\n"
          ],
          "name": "stdout"
        }
      ]
    },
    {
      "cell_type": "markdown",
      "metadata": {
        "id": "STScp1bKny52",
        "colab_type": "text"
      },
      "source": [
        "# Applying random forrest classifier"
      ]
    },
    {
      "cell_type": "code",
      "metadata": {
        "id": "hVERe4WemYAl",
        "colab_type": "code",
        "colab": {
          "base_uri": "https://localhost:8080/",
          "height": 207
        },
        "outputId": "9dcc3ba2-919c-42fa-bdc4-91e661b7f0e8"
      },
      "source": [
        "from sklearn.ensemble import RandomForestClassifier as RFC\n",
        "m=RFC()\n",
        "m.fit(x_train,y_train)\n",
        "pred=m.predict(x_test)\n",
        "pred_prob=m.predict_proba(x_test)\n",
        "print(pred)\n",
        "print(pred_prob)"
      ],
      "execution_count": null,
      "outputs": [
        {
          "output_type": "stream",
          "text": [
            "['dog' 'cat' 'cat' 'dog' 'cat' 'dog' 'cat' 'dog' 'dog' 'cat']\n",
            "[[0.43 0.57]\n",
            " [0.57 0.43]\n",
            " [0.55 0.45]\n",
            " [0.42 0.58]\n",
            " [0.54 0.46]\n",
            " [0.45 0.55]\n",
            " [0.62 0.38]\n",
            " [0.39 0.61]\n",
            " [0.12 0.88]\n",
            " [0.5  0.5 ]]\n"
          ],
          "name": "stdout"
        }
      ]
    },
    {
      "cell_type": "code",
      "metadata": {
        "id": "cFWSBak9oXsW",
        "colab_type": "code",
        "colab": {
          "base_uri": "https://localhost:8080/",
          "height": 52
        },
        "outputId": "e731e197-9862-4ede-e00b-2e707acb3aec"
      },
      "source": [
        "a"
      ],
      "execution_count": null,
      "outputs": [
        {
          "output_type": "execute_result",
          "data": {
            "text/plain": [
              "array(['cat', 'cat', 'cat', 'dog', 'dog', 'dog', 'cat', 'dog', 'dog',\n",
              "       'cat'], dtype=object)"
            ]
          },
          "metadata": {
            "tags": []
          },
          "execution_count": 223
        }
      ]
    },
    {
      "cell_type": "code",
      "metadata": {
        "id": "cPnSVU6uoaKq",
        "colab_type": "code",
        "colab": {
          "base_uri": "https://localhost:8080/",
          "height": 207
        },
        "outputId": "1611d3ee-a07f-4573-8404-8f35fdbbb685"
      },
      "source": [
        "from sklearn.metrics import classification_report,confusion_matrix\n",
        "print(classification_report(y_test,pred))\n",
        "print(confusion_matrix(y_test,pred))"
      ],
      "execution_count": null,
      "outputs": [
        {
          "output_type": "stream",
          "text": [
            "              precision    recall  f1-score   support\n",
            "\n",
            "         cat       0.80      0.80      0.80         5\n",
            "         dog       0.80      0.80      0.80         5\n",
            "\n",
            "    accuracy                           0.80        10\n",
            "   macro avg       0.80      0.80      0.80        10\n",
            "weighted avg       0.80      0.80      0.80        10\n",
            "\n",
            "[[4 1]\n",
            " [1 4]]\n"
          ],
          "name": "stdout"
        }
      ]
    },
    {
      "cell_type": "code",
      "metadata": {
        "id": "ad533TX2oeGQ",
        "colab_type": "code",
        "colab": {
          "base_uri": "https://localhost:8080/",
          "height": 320
        },
        "outputId": "d0675650-468b-4cb5-b6cf-5faf92e93bb9"
      },
      "source": [
        "\n",
        "import cv2\n",
        "import numpy as np\n",
        "from skimage.io import imread\n",
        "import matplotlib.pyplot as plt\n",
        "\n",
        "a=imread('https://i.insider.com/5c20d8ee01c0ea245970caa3?width=750&format=jpeg&auto=webp')\n",
        "print(a.shape)\n",
        "plt.imshow(a)\n",
        "new=[]\n",
        "imgresized = resize(a,(50,50,3))\n",
        "new.append(imgresized.flatten())\n",
        "new"
      ],
      "execution_count": 82,
      "outputs": [
        {
          "output_type": "stream",
          "text": [
            "(563, 750, 3)\n"
          ],
          "name": "stdout"
        },
        {
          "output_type": "execute_result",
          "data": {
            "text/plain": [
              "[array([0.64313725, 0.58431373, 0.56419608, ..., 0.43631373, 0.36129412,\n",
              "        0.31815686])]"
            ]
          },
          "metadata": {
            "tags": []
          },
          "execution_count": 82
        },
        {
          "output_type": "display_data",
          "data": {
            "image/png": "[encoded data removed]",
            "text/plain": [
              "<Figure size 432x288 with 1 Axes>"
            ]
          },
          "metadata": {
            "tags": [],
            "needs_background": "light"
          }
        }
      ]
    },
    {
      "cell_type": "code",
      "metadata": {
        "id": "iti8ID4LZ1t3",
        "colab_type": "code",
        "colab": {}
      },
      "source": [
        "b=np.array(new)"
      ],
      "execution_count": 79,
      "outputs": []
    },
    {
      "cell_type": "code",
      "metadata": {
        "id": "qeP6j0fLYs5W",
        "colab_type": "code",
        "colab": {
          "base_uri": "https://localhost:8080/",
          "height": 34
        },
        "outputId": "9ca0cd01-d2e7-4b51-81a0-ee876ffdee01"
      },
      "source": [
        "p=model.predict(b)    #IT SHUD PREDICT DOG \n",
        "p"
      ],
      "execution_count": 80,
      "outputs": [
        {
          "output_type": "execute_result",
          "data": {
            "text/plain": [
              "array(['dog'], dtype=object)"
            ]
          },
          "metadata": {
            "tags": []
          },
          "execution_count": 80
        }
      ]
    },
    {
      "cell_type": "code",
      "metadata": {
        "id": "rd7yoJDQarXh",
        "colab_type": "code",
        "colab": {}
      },
      "source": [
        ""
      ],
      "execution_count": null,
      "outputs": []
    }
  ]
}